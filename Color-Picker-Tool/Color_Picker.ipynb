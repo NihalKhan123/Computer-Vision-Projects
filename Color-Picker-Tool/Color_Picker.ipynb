{
 "cells": [
  {
   "cell_type": "code",
   "execution_count": 3,
   "id": "d639cc80-76bc-45da-9b96-074cdafdc319",
   "metadata": {},
   "outputs": [],
   "source": [
    "import cv2\n",
    "import numpy as np\n",
    "\n",
    "def colorPicker(x):\n",
    "    pass\n",
    "white = np.ones((500, 500, 3), np.uint8) * 255\n",
    "\n",
    "cv2.namedWindow(\"color\")\n",
    "cv2.createTrackbar(\"R\", \"color\", 0, 255, colorPicker)\n",
    "cv2.createTrackbar(\"G\", \"color\", 0, 255, colorPicker)\n",
    "cv2.createTrackbar(\"B\", \"color\", 0, 255, colorPicker)\n",
    "\n",
    "while True:\n",
    "    R = cv2.getTrackbarPos(\"R\", \"color\")\n",
    "    G = cv2.getTrackbarPos(\"G\", \"color\")\n",
    "    B = cv2.getTrackbarPos(\"B\", \"color\")\n",
    "    white[:] = [B, G, R]\n",
    "    hex_color = \"#{:02x}{:02x}{:02x}\".format(R, G, B)\n",
    "    text = f\"RGB({R},{G},{B})  {hex_color}\"\n",
    "    cv2.putText(white, text, (10, 450), cv2.FONT_HERSHEY_SIMPLEX,\n",
    "                0.8, (255-R, 255-G, 255-B), 2, cv2.LINE_AA)\n",
    "    cv2.imshow(\"color\", white)\n",
    "    if cv2.waitKey(1) & 0xFF == ord('p'):\n",
    "        break\n",
    "cv2.destroyAllWindows()\n"
   ]
  },
  {
   "cell_type": "code",
   "execution_count": null,
   "id": "ac64d829-2748-40ff-9cfc-b0a5f219d6fe",
   "metadata": {},
   "outputs": [],
   "source": []
  }
 ],
 "metadata": {
  "kernelspec": {
   "display_name": "Python 3 (ipykernel)",
   "language": "python",
   "name": "python3"
  },
  "language_info": {
   "codemirror_mode": {
    "name": "ipython",
    "version": 3
   },
   "file_extension": ".py",
   "mimetype": "text/x-python",
   "name": "python",
   "nbconvert_exporter": "python",
   "pygments_lexer": "ipython3",
   "version": "3.11.7"
  }
 },
 "nbformat": 4,
 "nbformat_minor": 5
}
