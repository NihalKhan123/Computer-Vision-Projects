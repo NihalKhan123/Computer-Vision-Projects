{
 "cells": [
  {
   "cell_type": "code",
   "execution_count": 9,
   "id": "ac64d829-2748-40ff-9cfc-b0a5f219d6fe",
   "metadata": {},
   "outputs": [],
   "source": [
    "import cv2\n",
    "import numpy as np\n",
    "img = cv2.imread(r\"C:\\Users\\NIHAL_MIRAJ\\Desktop\\computer vission\\Computer Vision Projects\\shape detection\\Untitled.png\")\n",
    "\n",
    "gray = cv2.cvtColor(img, cv2.COLOR_BGR2GRAY)\n",
    "gray = cv2.GaussianBlur(gray, (5,5), 0)\n",
    "\n",
    "_, thresh = cv2.threshold(gray, 200, 255, cv2.THRESH_BINARY_INV)\n",
    "\n",
    "# contours\n",
    "contours, _ = cv2.findContours(thresh, cv2.RETR_TREE, cv2.CHAIN_APPROX_SIMPLE)\n",
    "\n",
    "for cnt in contours:\n",
    "    approx = cv2.approxPolyDP(cnt, 0.02 * cv2.arcLength(cnt, True), True)\n",
    "    sides = len(approx)\n",
    "\n",
    "    M = cv2.moments(cnt)\n",
    "    if M[\"m00\"] != 0:\n",
    "        cx = int(M[\"m10\"] / M[\"m00\"])\n",
    "        cy = int(M[\"m01\"] / M[\"m00\"])\n",
    "    else:\n",
    "        cx, cy = 0, 0\n",
    "\n",
    "    # Detect shape\n",
    "    shape = \"Unknown\"\n",
    "    if sides == 3:\n",
    "        shape = \"Triangle\"\n",
    "    elif sides == 4:\n",
    "        x, y, w, h = cv2.boundingRect(approx)\n",
    "        aspectRatio = w / float(h)\n",
    "        if 0.95 <= aspectRatio <= 1.05:\n",
    "            shape = \"Square\"\n",
    "        else:\n",
    "            shape = \"Rectangle\"\n",
    "    elif sides == 5:\n",
    "        shape = \"Pentagon\"\n",
    "    elif sides == 6:\n",
    "        shape = \"Hexagon\"\n",
    "    elif sides == 10:\n",
    "        shape = \"Star\"\n",
    "    elif sides > 6:\n",
    "        shape = \"Circle\"\n",
    "\n",
    "    \n",
    "    cv2.drawContours(img, [approx], 0, (0, 255, 0), 3)\n",
    "    cv2.putText(img, shape, (cx - 40, cy), cv2.FONT_HERSHEY_SIMPLEX, \n",
    "                0.7, (0, 0, 255), 2)\n",
    "cv2.imshow('Detected Shapes', img)\n",
    "cv2.waitKey(0)\n",
    "cv2.destroyAllWindows()\n"
   ]
  },
  {
   "cell_type": "code",
   "execution_count": null,
   "id": "e412ad84-f6ca-483f-8d45-86cc1c40cde7",
   "metadata": {},
   "outputs": [],
   "source": []
  }
 ],
 "metadata": {
  "kernelspec": {
   "display_name": "Python 3 (ipykernel)",
   "language": "python",
   "name": "python3"
  },
  "language_info": {
   "codemirror_mode": {
    "name": "ipython",
    "version": 3
   },
   "file_extension": ".py",
   "mimetype": "text/x-python",
   "name": "python",
   "nbconvert_exporter": "python",
   "pygments_lexer": "ipython3",
   "version": "3.11.7"
  }
 },
 "nbformat": 4,
 "nbformat_minor": 5
}
